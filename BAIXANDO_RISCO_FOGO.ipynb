{
  "nbformat": 4,
  "nbformat_minor": 0,
  "metadata": {
    "colab": {
      "name": "BAIXANDO RISCO FOGO",
      "provenance": []
    },
    "kernelspec": {
      "name": "python3",
      "display_name": "Python 3"
    },
    "language_info": {
      "name": "python"
    }
  },
  "cells": [
    {
      "cell_type": "markdown",
      "source": [
        "## Criando uma pasta no GDrive para download dos dados"
      ],
      "metadata": {
        "id": "mPnMdBplO8cy"
      }
    },
    {
      "cell_type": "code",
      "source": [
        "!mkdir - p \"/content/drive/MyDrive/RISCO_FOGO/2021\""
      ],
      "metadata": {
        "id": "RueG_LWqO9uR"
      },
      "execution_count": null,
      "outputs": []
    },
    {
      "cell_type": "markdown",
      "source": [
        "## Criando dois vetores, um com os dias e outros com os meses"
      ],
      "metadata": {
        "id": "mUBHm5VgPS4l"
      }
    },
    {
      "cell_type": "code",
      "source": [
        "meses = \"01\",\"02\",\"03\",\"04\",\"05\",\"06\",\"07\",\"08\",\"09\",\"10\",\"11\",\"12\"\n",
        "dias = \"01\",\"02\",\"03\",\"04\",\"05\",\"06\",\"07\",\"08\",\"09\",\"10\",\"11\",\"12\",\"13\",\"14\",\"15\",\"16\",\"17\",\"18\",\"19\",\"20\",\"21\",\"22\",\"23\",\"24\",\"25\",\"26\",\"27\",\"28\",\"29\",\"30\",\"31\"\n"
      ],
      "metadata": {
        "id": "oP4M9WbzPIbI"
      },
      "execution_count": null,
      "outputs": []
    },
    {
      "cell_type": "markdown",
      "source": [
        "## Criando um loop para download dos dados (função !wget).\n",
        "#### No nome do arquivo, o loop substitui o dia e o mes no decorrer do loop, fazendo o download.\n",
        "#### Quando não tem o dia do mês, o loop passa para o próximo link automaticamente\n",
        "#### Nesse caso os arquivos são bem pesados, então pode ocupar rapidamente o espaço do GDrive"
      ],
      "metadata": {
        "id": "-ha8BN2ePTvk"
      }
    },
    {
      "cell_type": "code",
      "source": [
        "for i in meses:\n",
        "  for j in dias:\n",
        "      !wget -P \"/content/drive/MyDrive/RISCO_FOGO/2021\" https://queimadas.dgi.inpe.br/home/downloadfile?path=%2Fapp%2Fapi%2Fdata%2Fdados_abertos%2Foutros%2Frisco_de_fogo_observado%2Ftif%2FRF.ANL.2021{i}{j}00.tif\n",
        "  print (\"acabou o loop\")\n"
      ],
      "metadata": {
        "id": "SWw9TfTIPIdZ"
      },
      "execution_count": null,
      "outputs": []
    }
  ]
}